{
  "nbformat": 4,
  "nbformat_minor": 0,
  "metadata": {
    "colab": {
      "provenance": [],
      "authorship_tag": "ABX9TyPNcn1CXwhEbJovegR2nKlJ",
      "include_colab_link": true
    },
    "kernelspec": {
      "name": "python3",
      "display_name": "Python 3"
    },
    "language_info": {
      "name": "python"
    }
  },
  "cells": [
    {
      "cell_type": "markdown",
      "metadata": {
        "id": "view-in-github",
        "colab_type": "text"
      },
      "source": [
        "<a href=\"https://colab.research.google.com/github/AzkaSatti123/AI-lab-1/blob/main/AI_Lab_2_Task.ipynb\" target=\"_parent\"><img src=\"https://colab.research.google.com/assets/colab-badge.svg\" alt=\"Open In Colab\"/></a>"
      ]
    },
    {
      "cell_type": "markdown",
      "source": [
        "q1:1.\tAccess List Items:\n",
        "•\tCreate a list of fruits.\n",
        "•\tPrint the first and last items of the list.\n"
      ],
      "metadata": {
        "id": "7ag5J-rN4HSr"
      }
    },
    {
      "cell_type": "code",
      "source": [
        "fruits=[\"apple\",\"strawberry\",\"Kiwi\",\"pomegranate\",\"cherry\",\"apricot\"]\n",
        "print(fruits[1])\n",
        "print(fruits[-1])"
      ],
      "metadata": {
        "colab": {
          "base_uri": "https://localhost:8080/"
        },
        "id": "mhVcQkSJ4OKC",
        "outputId": "bf342a68-4536-4812-ebb9-e6a15b465b05"
      },
      "execution_count": null,
      "outputs": [
        {
          "output_type": "stream",
          "name": "stdout",
          "text": [
            "strawberry\n",
            "apricot\n"
          ]
        }
      ]
    },
    {
      "cell_type": "code",
      "source": [
        "q2:2.Change List Items:\n",
        "•\tCreate a list of colors.\n",
        "•\tChange the second item in the list to \"blue\"."
      ],
      "metadata": {
        "id": "HXKNYZmR54UC"
      },
      "execution_count": null,
      "outputs": []
    },
    {
      "cell_type": "code",
      "source": [
        "colors=[\"red\",\"purple\",\"yellow\",\"green\",\"orange\"]\n",
        "colors[0]=\"blue\"\n",
        "print(colors)"
      ],
      "metadata": {
        "colab": {
          "base_uri": "https://localhost:8080/"
        },
        "id": "OUVHSsYG6YRO",
        "outputId": "18ab97bc-ee29-4950-f57a-d3940ce32138"
      },
      "execution_count": null,
      "outputs": [
        {
          "output_type": "stream",
          "name": "stdout",
          "text": [
            "['blue', 'purple', 'yellow', 'green', 'orange']\n"
          ]
        }
      ]
    },
    {
      "cell_type": "markdown",
      "source": [
        "q3:add elements at the end of the list"
      ],
      "metadata": {
        "id": "hzwh-dJT7tgt"
      }
    },
    {
      "cell_type": "code",
      "source": [
        "numbers=[1,2,3,4,5,6,7,8,9]\n",
        "numbers.append(10)\n",
        "print(numbers)"
      ],
      "metadata": {
        "colab": {
          "base_uri": "https://localhost:8080/"
        },
        "id": "l8Z_Y1Yr7tqu",
        "outputId": "48fce771-e8b0-48bd-9522-20e14d0bd63a"
      },
      "execution_count": null,
      "outputs": [
        {
          "output_type": "stream",
          "name": "stdout",
          "text": [
            "[1, 2, 3, 4, 5, 6, 7, 8, 9, 10]\n"
          ]
        }
      ]
    },
    {
      "cell_type": "markdown",
      "source": [
        "q4:5.\tLoop Lists:\n",
        "•\tCreate a list of cities.\n",
        "•\tLoop through the list and print each city.\n"
      ],
      "metadata": {
        "id": "bDdYLnUE86t3"
      }
    },
    {
      "cell_type": "code",
      "source": [
        "animals=[\"Lion\",\"Horse\",\"Cat\",\"Dog\",\"Fish\"]\n",
        "animals.remove(\"Cat\")\n",
        "#we can remove the elements by specifying the element in the list\n",
        "print(animals)\n",
        "animals.pop(2)\n",
        "#it removes w.r.t to indexes\n",
        "print(animals)"
      ],
      "metadata": {
        "colab": {
          "base_uri": "https://localhost:8080/"
        },
        "id": "N7Bq7ihg863b",
        "outputId": "b9bcbb42-d506-4d7e-c865-788887bd930c"
      },
      "execution_count": null,
      "outputs": [
        {
          "output_type": "stream",
          "name": "stdout",
          "text": [
            "['Lion', 'Horse', 'Dog', 'Fish']\n",
            "['Lion', 'Horse', 'Fish']\n"
          ]
        }
      ]
    },
    {
      "cell_type": "markdown",
      "source": [
        "q5:5.\tLoop Lists:\n",
        "•\tCreate a list of cities.\n",
        "•\tLoop through the list and print each city.\n"
      ],
      "metadata": {
        "id": "DCRta-VU-oRz"
      }
    },
    {
      "cell_type": "code",
      "source": [
        "numbers=[1,2,4,6,8]\n",
        "mul_num=[]\n",
        "for i in numbers:\n",
        "  mul_num.append(i*2)\n",
        "\n",
        "print(mul_num)"
      ],
      "metadata": {
        "colab": {
          "base_uri": "https://localhost:8080/"
        },
        "id": "3h0NGIYg-oa7",
        "outputId": "417cff77-5951-4dff-d60f-7e321c574b01"
      },
      "execution_count": null,
      "outputs": [
        {
          "output_type": "stream",
          "name": "stdout",
          "text": [
            "[2, 4, 8, 12, 16]\n"
          ]
        }
      ]
    },
    {
      "cell_type": "code",
      "source": [
        "cities=[\"Islamabad\",\"Rawalpindi\",\"Karachi\",\"Multan\",\"Fasilabad\"]\n",
        "for i in cities:\n",
        "  print(i)"
      ],
      "metadata": {
        "id": "2kqbyWrDAU0g",
        "outputId": "17a311a7-3e12-4349-97d5-e388c2213944",
        "colab": {
          "base_uri": "https://localhost:8080/"
        }
      },
      "execution_count": null,
      "outputs": [
        {
          "output_type": "stream",
          "name": "stdout",
          "text": [
            "Islamabad\n",
            "Rawalpindi\n",
            "Karachi\n",
            "Multan\n",
            "Fasilabad\n"
          ]
        }
      ]
    },
    {
      "cell_type": "markdown",
      "source": [
        "6.\tList Comprehension:\n",
        "•\tCreate a list of numbers from 1 to 10.\n",
        "•\tUse list comprehension to create a new list containing the square of each number.\n"
      ],
      "metadata": {
        "id": "9ojSTYYNBVwv"
      }
    },
    {
      "cell_type": "code",
      "source": [
        "numbers=[1,2,3,4,5,6,7,8,9,10]\n",
        "squared_list=[]\n",
        "for i in numbers:\n",
        "  squared_list.append(i**2)\n",
        "\n",
        "print(squared_list)"
      ],
      "metadata": {
        "id": "-6kQ3A9mBV5w",
        "outputId": "256e7221-f38c-4849-a093-cb756cc21a8b",
        "colab": {
          "base_uri": "https://localhost:8080/"
        }
      },
      "execution_count": null,
      "outputs": [
        {
          "output_type": "stream",
          "name": "stdout",
          "text": [
            "[1, 4, 9, 16, 25, 36, 49, 64, 81, 100]\n"
          ]
        }
      ]
    },
    {
      "cell_type": "markdown",
      "source": [
        "7.\tSort Lists:\n",
        "•\tCreate a list of names.\n",
        "•\tSort the list alphabetically."
      ],
      "metadata": {
        "id": "xPxm7h7QCYLq"
      }
    },
    {
      "cell_type": "code",
      "source": [
        "names=[\"Fatima\",\"Mustafa\",\"Sana\",\"Azka\"]\n",
        "names.sort()\n",
        "print(names)"
      ],
      "metadata": {
        "id": "PWww5ruGCYUt",
        "outputId": "c9bc6b29-3b39-4c33-ac4b-3115a4b42365",
        "colab": {
          "base_uri": "https://localhost:8080/"
        }
      },
      "execution_count": null,
      "outputs": [
        {
          "output_type": "stream",
          "name": "stdout",
          "text": [
            "['Azka', 'Fatima', 'Mustafa', 'Sana']\n"
          ]
        }
      ]
    },
    {
      "cell_type": "markdown",
      "source": [
        "8.\tCopy Lists:\n",
        "•\tCreate a list of fruits.\n",
        "•\tCopy the list into a new list."
      ],
      "metadata": {
        "id": "FnoGcmBoC0RZ"
      }
    },
    {
      "cell_type": "code",
      "source": [
        "fruits=[\"apple\",\"strawberry\",\"Kiwi\",\"pomegranate\",\"cherry\",\"apricot\"]\n",
        "fruits2=fruits\n",
        "print(fruits2)"
      ],
      "metadata": {
        "id": "c-523mT6C0am",
        "outputId": "50f06818-669a-4aa9-c9a1-583212867e43",
        "colab": {
          "base_uri": "https://localhost:8080/"
        }
      },
      "execution_count": null,
      "outputs": [
        {
          "output_type": "stream",
          "name": "stdout",
          "text": [
            "['apple', 'strawberry', 'Kiwi', 'pomegranate', 'cherry', 'apricot']\n"
          ]
        }
      ]
    },
    {
      "cell_type": "markdown",
      "source": [
        "9.\tJoin Lists:\n",
        "•\tCreate two lists of numbers.\n",
        "•\tJoin the two lists into a single list."
      ],
      "metadata": {
        "id": "DXFFZq95DPmi"
      }
    },
    {
      "cell_type": "code",
      "source": [
        "num1=[1,2,3,4,5]\n",
        "num2=[6,7,8,9,10]\n",
        "num3= num1 + num2\n",
        "print(num3)"
      ],
      "metadata": {
        "id": "fwwQIfJ5DPwy",
        "outputId": "78180bfd-2a7c-45d4-ba33-f586a00446ab",
        "colab": {
          "base_uri": "https://localhost:8080/"
        }
      },
      "execution_count": null,
      "outputs": [
        {
          "output_type": "stream",
          "name": "stdout",
          "text": [
            "[1, 2, 3, 4, 5, 6, 7, 8, 9, 10]\n"
          ]
        }
      ]
    },
    {
      "cell_type": "markdown",
      "source": [
        "10.\tList Methods:\n",
        "•\tCreate a list of fruits.\n",
        "•\tUse the append() method to add a new fruit to the list.\n",
        "•\tUse the pop() method to remove the last fruit from the list.\n"
      ],
      "metadata": {
        "id": "Cq2-Axo4D1dK"
      }
    },
    {
      "cell_type": "code",
      "source": [
        "fruits=[\"apple\",\"strawberry\",\"Kiwi\",\"pomegranate\",\"cherry\",\"apricot\"]\n",
        "fruits.append(\"bannana\")\n",
        "print(fruits)\n",
        "fruits.pop(1)\n",
        "print(fruits)\n",
        "\n"
      ],
      "metadata": {
        "id": "vjF94rE5D1lR",
        "outputId": "6a24475c-a0b1-428d-92f6-14665187fe70",
        "colab": {
          "base_uri": "https://localhost:8080/"
        }
      },
      "execution_count": null,
      "outputs": [
        {
          "output_type": "stream",
          "name": "stdout",
          "text": [
            "['apple', 'strawberry', 'Kiwi', 'pomegranate', 'cherry', 'apricot', 'bannana']\n",
            "['apple', 'Kiwi', 'pomegranate', 'cherry', 'apricot', 'bannana']\n"
          ]
        }
      ]
    },
    {
      "cell_type": "markdown",
      "source": [
        "11.\tCombining Lists and List Comprehension:\n",
        "\n",
        "•\tCreate two lists, one containing numbers from 1 to 5 and another containing numbers from 6 to 10.\n",
        "•\tUse list comprehension to create a new list that contains the sum of corresponding elements from the two lists.\n"
      ],
      "metadata": {
        "id": "_K8JW4FwEVVx"
      }
    },
    {
      "cell_type": "code",
      "source": [
        "list1=[1,2,3,4,5]\n",
        "list2=[6,7,8,9,10]\n",
        "list3=[x + y for x,y in zip(list1,list2)]\n",
        "#here zip means it creats pair of each element in the list having same indexes and through which elements will be added thru pair form\n",
        "print(list3)\n"
      ],
      "metadata": {
        "id": "gh-oaUC7EVd0",
        "outputId": "0580e696-0b80-4ecb-ab43-dde08d9bb0fb",
        "colab": {
          "base_uri": "https://localhost:8080/"
        }
      },
      "execution_count": null,
      "outputs": [
        {
          "output_type": "stream",
          "name": "stdout",
          "text": [
            "[7, 9, 11, 13, 15]\n"
          ]
        }
      ]
    },
    {
      "cell_type": "markdown",
      "source": [],
      "metadata": {
        "id": "dBzGjxu2MTZ9"
      }
    },
    {
      "cell_type": "code",
      "source": [
        "list=[1,2,3,4,5]\n",
        "list2=[\"a\",\"b\",\"c\"]\n",
        "list1.extend(list2)\n",
        "print(list1)"
      ],
      "metadata": {
        "id": "fSWFXSb1LtlG",
        "outputId": "661d0467-7a3f-41c9-bebc-4631f4cb3ddb",
        "colab": {
          "base_uri": "https://localhost:8080/"
        }
      },
      "execution_count": null,
      "outputs": [
        {
          "output_type": "stream",
          "name": "stdout",
          "text": [
            "[1, 2, 3, 4, 5, 6, 7, 8, 9, 10, 'a', 'b', 'c']\n"
          ]
        }
      ]
    },
    {
      "cell_type": "markdown",
      "source": [
        "12.\tFiltering and Sorting:\n",
        "Create a list of numbers.\n",
        "•\tUse list comprehension to create a new list containing only the even numbers from the original list.\n",
        "•\tSort the new list in descending order."
      ],
      "metadata": {
        "id": "SmbGxsx-MSTI"
      }
    },
    {
      "cell_type": "code",
      "source": [
        "list1=[1,2,3,4,5,6,7,8,9,10]\n",
        "list2=[i for i in list1 if i%2==0]\n",
        "print(list2)\n",
        "list2.sort(reverse=True)\n",
        "print(list2)"
      ],
      "metadata": {
        "id": "vzpCWM0IMeoz",
        "outputId": "d29a8cbf-749d-448a-e203-032673d604bd",
        "colab": {
          "base_uri": "https://localhost:8080/"
        }
      },
      "execution_count": null,
      "outputs": [
        {
          "output_type": "stream",
          "name": "stdout",
          "text": [
            "[2, 4, 6, 8, 10]\n",
            "[10, 8, 6, 4, 2]\n"
          ]
        }
      ]
    },
    {
      "cell_type": "markdown",
      "source": [
        "13.13.\tList Slicing and Reversing:\n",
        "•\tCreate a list of numbers from 1 to 10.\n",
        "•\tUse list slicing to create a new list containing only the even numbers from the original list, in reverse order.\n"
      ],
      "metadata": {
        "id": "vDrSXp8PBix3"
      }
    },
    {
      "cell_type": "code",
      "source": [
        "list1=[1,2,3,4,5,6,7,8,9,10]\n",
        "print(\"list1\",list1)\n",
        "list2=[]\n",
        "for i in list1:\n",
        "   if i%2==0:\n",
        "    list2.append(i)\n",
        "\n",
        "list2.sort(reverse=True)\n",
        "print(\"list2\",list2)"
      ],
      "metadata": {
        "colab": {
          "base_uri": "https://localhost:8080/"
        },
        "id": "0C-8YtTkBjDu",
        "outputId": "bb4772fc-5ff2-453e-e483-51a4c0e34645"
      },
      "execution_count": 7,
      "outputs": [
        {
          "output_type": "stream",
          "name": "stdout",
          "text": [
            "list1 [1, 2, 3, 4, 5, 6, 7, 8, 9, 10]\n",
            "list2 [10, 8, 6, 4, 2]\n"
          ]
        }
      ]
    },
    {
      "cell_type": "markdown",
      "source": [
        "14.\tCombining Lists and List Methods:\n",
        "•\tCreate two lists, one containing even numbers and another containing odd numbers.\n",
        "•\tUse list methods to combine the two lists into a single list, alternating between even and odd numbers.\n"
      ],
      "metadata": {
        "id": "GaOnwQfTBjUb"
      }
    },
    {
      "cell_type": "code",
      "source": [
        "list1=[1,3,5,7,9]\n",
        "list2=[2,4,6,8,10]\n",
        "list3=list1+list2\n",
        "print(list3)\n",
        "list3.sort()\n",
        "print(list3)\n"
      ],
      "metadata": {
        "colab": {
          "base_uri": "https://localhost:8080/"
        },
        "id": "9Ddw3BCbBjgE",
        "outputId": "e83a9c0c-e509-459d-d677-dcbf86b408f6"
      },
      "execution_count": 8,
      "outputs": [
        {
          "output_type": "stream",
          "name": "stdout",
          "text": [
            "[1, 3, 5, 7, 9, 2, 4, 6, 8, 10]\n",
            "[1, 2, 3, 4, 5, 6, 7, 8, 9, 10]\n"
          ]
        }
      ]
    }
  ]
}